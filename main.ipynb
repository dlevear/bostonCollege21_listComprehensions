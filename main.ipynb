{
 "cells": [
  {
   "cell_type": "markdown",
   "id": "3d3d03f6",
   "metadata": {
    "slideshow": {
     "slide_type": "skip"
    }
   },
   "source": [
    "**To view as a slideshow:**\n",
    "1. You might need to first select Help -> Launch Classic Notebook.\n",
    "2. From the menu, select Cell -> Run All. \n",
    "3. Select this cell. Click the \"bar graph\" icon above (\"Enter/Exit Rise Slideshow\"). Use the space bar to advance (shift+space to go back).\""
   ]
  },
  {
   "cell_type": "markdown",
   "id": "63f12fc1",
   "metadata": {
    "slideshow": {
     "slide_type": "slide"
    }
   },
   "source": [
    "# Introduction to Python's List Comprehensions\n",
    "# Author: Duncan Levear\n",
    "Presented at Boston College, March 2022\n",
    "\n",
    "Notebook available on [@dlevear's github](https://github.com/dlevear/bostonCollege21_listComprehensions)."
   ]
  },
  {
   "cell_type": "markdown",
   "id": "b63f9174",
   "metadata": {
    "slideshow": {
     "slide_type": "slide"
    }
   },
   "source": [
    "# Introduction\n",
    "**List comprehensions** are a way of generating a Python list using a succinct and readable syntax. \n",
    "\n",
    "Mastering list comprehensions will allow you to write shorter, cleaner, and more elegant Python code."
   ]
  },
  {
   "cell_type": "markdown",
   "id": "626c2a9f",
   "metadata": {
    "slideshow": {
     "slide_type": "fragment"
    }
   },
   "source": [
    "# Outline\n",
    "1. What is a list comprehension?\n",
    "1. **Problem**: analyzing data from a file\n",
    "1. **Project**: implementing vector operations"
   ]
  },
  {
   "cell_type": "markdown",
   "id": "5972b17a",
   "metadata": {
    "slideshow": {
     "slide_type": "slide"
    }
   },
   "source": [
    "## Python Toolbox\n",
    "List comprehensions are another tool in our Python Toolbox.\n",
    "\n",
    "<center>\n",
    "<img src=\"https://menno.io/images/toolbox.jpg\" width=\"33%\">\n",
    "<!-- source: https://menno.io/posts/my-python-toolbox/ -->\n",
    "<table style=\"border-collapse: collapse; font-size:xx-large\">\n",
    "<tr><td style=\"border:1px solid black\">Variables</td style=\"border:1px solid black\"><td style=\"border:1px solid black\">Lists</td style=\"border:1px solid black\"></tr>\n",
    "<tr><td style=\"border:1px solid black\">Math Operations</td style=\"border:1px solid black\"><td style=\"border:1px solid black\">String Operations</td style=\"border:1px solid black\"></tr>\n",
    "<tr><td style=\"border:1px solid black\">For-loops</td style=\"border:1px solid black\"><td style=\"border:1px solid black; background-color:hotpink\">List Comprehensions</td style=\"border:1px solid black\"></tr>\n",
    "</table>\n",
    "</center>\n"
   ]
  },
  {
   "cell_type": "markdown",
   "id": "193a18d1",
   "metadata": {
    "slideshow": {
     "slide_type": "slide"
    }
   },
   "source": [
    "# What is a list comprehension?\n",
    "\n",
    "The usual way to initialize a list is:\n",
    "\n",
    "```\n",
    "L1 = [0, 2, 4, 6, 8, 10, 12, 14, 16, 18] # even numbers up to 20\n",
    "```"
   ]
  },
  {
   "cell_type": "markdown",
   "id": "e6571560",
   "metadata": {
    "slideshow": {
     "slide_type": "fragment"
    }
   },
   "source": [
    "Here is the same list given as a list comprehension:\n",
    "\n",
    "```\n",
    "L2 = [2*i for i in range(10)] # even numbers up to 20\n",
    "```"
   ]
  },
  {
   "cell_type": "code",
   "execution_count": 1,
   "id": "7a6dca8a",
   "metadata": {
    "slideshow": {
     "slide_type": "fragment"
    }
   },
   "outputs": [
    {
     "name": "stdout",
     "output_type": "stream",
     "text": [
      "[0, 2, 4, 6, 8, 10, 12, 14, 16, 18]\n"
     ]
    }
   ],
   "source": [
    "# Demo\n",
    "L2 = [2*i for i in range(10)]\n",
    "print(L2)"
   ]
  },
  {
   "cell_type": "markdown",
   "id": "03117770",
   "metadata": {
    "slideshow": {
     "slide_type": "slide"
    }
   },
   "source": [
    "# Anatomy of a list comprehension\n",
    "\n",
    "`L2 = [2*i for i in range(10)] # even numbers < 20`\n",
    "\n",
    "We can think of `2*i` as the \"recipe\", and `for i in range(10)` as the \"ingredients\".\n",
    "\n",
    "\n",
    "## More examples\n",
    "- `L3 = [3*i for i in range(10)] # multiples of three`\n",
    "- `L4 = ['-' for i in range(5)]  # list of five hyphens`\n",
    "\n",
    "\n",
    "For the \"ingredients\" we can use any iterable:\n",
    "- `L5 = [ord(c) for c in \"Boston\"] # Unicode \"Boston\"`\n"
   ]
  },
  {
   "cell_type": "code",
   "execution_count": 2,
   "id": "b1a86569",
   "metadata": {
    "slideshow": {
     "slide_type": "fragment"
    }
   },
   "outputs": [
    {
     "name": "stdout",
     "output_type": "stream",
     "text": [
      "L1:  [0, 2, 4, 6, 8, 10, 12, 14, 16, 18]\n",
      "L2:  [0, 2, 4, 6, 8, 10, 12, 14, 16, 18]\n",
      "L3:  [0, 3, 6, 9, 12, 15, 18, 21, 24, 27]\n",
      "L4:  ['-', '-', '-', '-', '-']\n",
      "L5:  [66, 111, 115, 116, 111, 110]\n"
     ]
    }
   ],
   "source": [
    "L1 = [0, 2, 4, 6, 8, 10, 12, 14, 16, 18]\n",
    "L2 = [2*i for i in range(10)]\n",
    "L3 = [3*i for i in range(10)]\n",
    "L4 = ['-' for i in range(5)]\n",
    "L5 = [ord(c) for c in \"Boston\"]\n",
    "\n",
    "print(\"L1: \", L1)\n",
    "print(\"L2: \", L2)\n",
    "print(\"L3: \", L3)\n",
    "print(\"L4: \", L4)\n",
    "print(\"L5: \", L5)"
   ]
  },
  {
   "cell_type": "markdown",
   "id": "833955c7",
   "metadata": {
    "slideshow": {
     "slide_type": "subslide"
    }
   },
   "source": [
    "Example: `[2*i for i in range(10)] # even numbers up to 20`\n",
    "    \n",
    "# Practice\n",
    "Convert these lists to list comprehensions:\n",
    "1. `L6 = [1, 4, 9, 16, 25, 36, 49, 64, 81]`\n",
    "1. `L7 = ['#1','#2','#3','#4','#5']`\n",
    "1. `L8 = [0, 1, 0, 1, 0, 1]`"
   ]
  },
  {
   "cell_type": "code",
   "execution_count": 3,
   "id": "cc6c14f6",
   "metadata": {
    "slideshow": {
     "slide_type": "fragment"
    }
   },
   "outputs": [],
   "source": [
    "L6 = [1, 4, 9, 16, 25, 36, 49, 64, 81]\n",
    "#print(list comprehension)\n",
    "\n",
    "L7 = ['#1','#2','#3','#4','#5']\n",
    "#print(list comprehension)\n",
    "\n",
    "L8 = [0, 1, 0, 1, 0, 1]\n",
    "#print(list comprehension)"
   ]
  },
  {
   "cell_type": "markdown",
   "id": "dd5f46ae",
   "metadata": {
    "slideshow": {
     "slide_type": "notes"
    }
   },
   "source": [
    "Answers:\n",
    "\n",
    "L6 = `[i*i for i in range(1,10)]`\n",
    "    \n",
    "L7 = `['#'+str(i) for i in range(1,6)]`\n",
    "    \n",
    "L8 = `[i%2 for i in range(6)]`"
   ]
  },
  {
   "cell_type": "markdown",
   "id": "03a4d353",
   "metadata": {
    "slideshow": {
     "slide_type": "slide"
    }
   },
   "source": [
    "# List Comprehensions Vs For-Loops\n",
    "We can always replace a list comprehension by a for-loop.\n",
    "\n",
    "### List comprehension\n",
    "`L2 = [2*i for i in range(10)]`\n",
    "\n",
    "### Equivalent for-loop\n",
    "`\n",
    "L2 = []\n",
    "for i in range(10):\n",
    "    L2.append(2*i)\n",
    "`\n",
    "\n",
    "## Advantages of list comprehensions\n",
    "* More concise\n",
    "* More readable\n",
    "* (Slightly) faster\n",
    "\n",
    "## Disadvantages of list comprehensions\n",
    "* Unfamiliar\n",
    "* Harder to debug"
   ]
  },
  {
   "cell_type": "markdown",
   "id": "48631540",
   "metadata": {
    "slideshow": {
     "slide_type": "slide"
    }
   },
   "source": [
    "# Filtering with list comprehensions\n",
    "\n",
    "### Reading a data file\n",
    "Suppose a file `temps.txt` contains the average temperature for each week of January and February:"
   ]
  },
  {
   "cell_type": "code",
   "execution_count": 4,
   "id": "b1e4a390",
   "metadata": {
    "slideshow": {
     "slide_type": "fragment"
    }
   },
   "outputs": [
    {
     "name": "stdout",
     "output_type": "stream",
     "text": [
      "# January\n",
      "25\n",
      "30\n",
      "26\n",
      "32\n",
      "# February\n",
      "33\n",
      "35\n",
      "37\n",
      "34\n"
     ]
    }
   ],
   "source": [
    "f = open('temps.txt')\n",
    "for line in f:\n",
    "    print(line.strip()) # strip() removes whitespace characters"
   ]
  },
  {
   "cell_type": "markdown",
   "id": "4b98b419",
   "metadata": {
    "slideshow": {
     "slide_type": "fragment"
    }
   },
   "source": [
    "We can remove the for-loop with a list comprehension."
   ]
  },
  {
   "cell_type": "code",
   "execution_count": 5,
   "id": "4e0a57e7",
   "metadata": {
    "slideshow": {
     "slide_type": "fragment"
    }
   },
   "outputs": [
    {
     "name": "stdout",
     "output_type": "stream",
     "text": [
      "['# January', '25', '30', '26', '32', '# February', '33', '35', '37', '34']\n"
     ]
    }
   ],
   "source": [
    "lines = [line.strip() for line in open('temps.txt')]\n",
    "print(lines)"
   ]
  },
  {
   "cell_type": "markdown",
   "id": "7ede2c08",
   "metadata": {
    "slideshow": {
     "slide_type": "fragment"
    }
   },
   "source": [
    "But we probably want to ignore the lines that start with `#`. "
   ]
  },
  {
   "cell_type": "markdown",
   "id": "075a7124",
   "metadata": {
    "slideshow": {
     "slide_type": "fragment"
    }
   },
   "source": [
    "### Filtering\n",
    "We can add an `if <condition>` inside our list comprehension."
   ]
  },
  {
   "cell_type": "code",
   "execution_count": 6,
   "id": "f75e4067",
   "metadata": {
    "slideshow": {
     "slide_type": "fragment"
    }
   },
   "outputs": [
    {
     "name": "stdout",
     "output_type": "stream",
     "text": [
      "['25', '30', '26', '32', '33', '35', '37', '34']\n"
     ]
    }
   ],
   "source": [
    "dataLines = [line.strip() for line in open('temps.txt') if line[0] != '#']\n",
    "print(dataLines)"
   ]
  },
  {
   "cell_type": "code",
   "execution_count": 7,
   "id": "65412225",
   "metadata": {
    "slideshow": {
     "slide_type": "slide"
    }
   },
   "outputs": [
    {
     "name": "stdout",
     "output_type": "stream",
     "text": [
      "['25', '30', '26', '32', '33', '35', '37', '34']\n"
     ]
    }
   ],
   "source": [
    "dataLines = [line.strip() for line in open('temps.txt') if line[0] != '#']\n",
    "print(dataLines)"
   ]
  },
  {
   "cell_type": "markdown",
   "id": "6c9736c4",
   "metadata": {
    "slideshow": {
     "slide_type": "fragment"
    }
   },
   "source": [
    "# This is called \"filtering\"\n",
    "The `if <condition>` in a list comprehension will only include elements where `<condition>` is `True`.\n",
    "\n",
    "More examples:\n",
    "- `F = [t for t in dataLines if int(t) < 32] # freezing temperatures`\n",
    "- `len(F) # number of days with temperature below freezing`"
   ]
  },
  {
   "cell_type": "markdown",
   "id": "33e22389",
   "metadata": {
    "slideshow": {
     "slide_type": "subslide"
    }
   },
   "source": [
    "### Practice\n",
    "How would we count the number of days where the temperature was an even number?"
   ]
  },
  {
   "cell_type": "code",
   "execution_count": 8,
   "id": "a00f7ae6",
   "metadata": {
    "slideshow": {
     "slide_type": "fragment"
    }
   },
   "outputs": [],
   "source": [
    "dataLines = [line.strip() for line in open('temps.txt') if line[0] != '#']\n",
    "#print(number of days with even temperature)"
   ]
  },
  {
   "cell_type": "markdown",
   "id": "7b93f9f2",
   "metadata": {
    "slideshow": {
     "slide_type": "notes"
    }
   },
   "source": [
    "Answer:\n",
    "    \n",
    "`print(len([t for t in dataLines if int(t)%2==0]))`"
   ]
  },
  {
   "cell_type": "markdown",
   "id": "9186102a",
   "metadata": {
    "slideshow": {
     "slide_type": "slide"
    }
   },
   "source": [
    "# Using `len` and `sum` with list comprehensions\n",
    "\n",
    "If we feed a list comprehension into `len()`, we can count the number of times a condition is satisfied."
   ]
  },
  {
   "cell_type": "code",
   "execution_count": 9,
   "id": "75ee8c5e",
   "metadata": {
    "slideshow": {
     "slide_type": "fragment"
    }
   },
   "outputs": [
    {
     "name": "stdout",
     "output_type": "stream",
     "text": [
      "Number of temperatures below freezing: 3\n"
     ]
    }
   ],
   "source": [
    "dataLines = [int(line.strip()) for line in open('temps.txt') if line[0] != '#']\n",
    "freezingTemps = [t for t in dataLines if t<32]\n",
    "print(\"Number of temperatures below freezing: \" + str(len(freezingTemps)))"
   ]
  },
  {
   "cell_type": "markdown",
   "id": "c4efc47a",
   "metadata": {
    "slideshow": {
     "slide_type": "fragment"
    }
   },
   "source": [
    "### Other useful operations on lists:\n",
    "- `sum` sum the entries\n",
    "- `min` get the minimum entry\n",
    "- `max` get the maximum entry"
   ]
  },
  {
   "cell_type": "code",
   "execution_count": 10,
   "id": "fbe9fd00",
   "metadata": {
    "slideshow": {
     "slide_type": "fragment"
    }
   },
   "outputs": [
    {
     "name": "stdout",
     "output_type": "stream",
     "text": [
      "Minimum temperature: 25\n"
     ]
    }
   ],
   "source": [
    "print(\"Minimum temperature: \" + str(min(dataLines))) "
   ]
  },
  {
   "cell_type": "code",
   "execution_count": 11,
   "id": "d976ec8f",
   "metadata": {
    "slideshow": {
     "slide_type": "fragment"
    }
   },
   "outputs": [
    {
     "name": "stdout",
     "output_type": "stream",
     "text": [
      "Average: 31.5\n"
     ]
    }
   ],
   "source": [
    "averageTemp = sum(dataLines)/len(dataLines)\n",
    "print(\"Average: \" + str(averageTemp))"
   ]
  },
  {
   "cell_type": "markdown",
   "id": "ebe7ef85",
   "metadata": {
    "slideshow": {
     "slide_type": "slide"
    }
   },
   "source": [
    "# Project: implement vector functions\n",
    "\n",
    "- `vector_scale(v, scalar)` should return `v` multiplied by `scalar`\n",
    "- `vector_add(v,w)` should return the sum of vectors `v+w`\n",
    "- `vector_dot(v,w)` should return the dot product of vectors `v` and `w`"
   ]
  },
  {
   "cell_type": "code",
   "execution_count": 12,
   "id": "6d8fbb76",
   "metadata": {
    "slideshow": {
     "slide_type": "fragment"
    }
   },
   "outputs": [
    {
     "name": "stdout",
     "output_type": "stream",
     "text": [
      "None\n"
     ]
    }
   ],
   "source": [
    "def vector_scale(v, scalar):\n",
    "    pass # fill in here\n",
    "    \n",
    "vec1 = [1, 0, -2]\n",
    "print(vector_scale(vec1,10)) # expect: [10,0,-20]"
   ]
  },
  {
   "cell_type": "code",
   "execution_count": 13,
   "id": "f97c30bf",
   "metadata": {
    "slideshow": {
     "slide_type": "fragment"
    }
   },
   "outputs": [
    {
     "name": "stdout",
     "output_type": "stream",
     "text": [
      "None\n"
     ]
    }
   ],
   "source": [
    "def vector_add(v, w):\n",
    "    pass # fill in here\n",
    "    \n",
    "vec1 = [1, 0, -2]\n",
    "vec2 = [0, 3, -3]\n",
    "print(vector_add(vec1,vec2)) # expect: [1, 3, -5]"
   ]
  },
  {
   "cell_type": "code",
   "execution_count": 14,
   "id": "5657bae4",
   "metadata": {
    "slideshow": {
     "slide_type": "fragment"
    }
   },
   "outputs": [
    {
     "name": "stdout",
     "output_type": "stream",
     "text": [
      "None\n"
     ]
    }
   ],
   "source": [
    "def vector_dot(v, w):\n",
    "    pass # fill in here\n",
    "    \n",
    "vec1 = [1, 0, -2]\n",
    "vec2 = [0, 3, -3]\n",
    "print(vector_dot(vec1,vec2)) # expect: 6"
   ]
  },
  {
   "cell_type": "markdown",
   "id": "0f0c52dd",
   "metadata": {
    "slideshow": {
     "slide_type": "slide"
    }
   },
   "source": [
    "# Summary\n",
    "We use list comprehensions to create lists in a concise and efficient way.\n",
    "\n",
    "- Basic syntax: `[2*i for i in range(10)]`\n",
    "\n",
    "- With a condition: `[line for line in open('temps.txt') if line[0] != '#']`\n",
    "\n",
    "Use with `len()`, `sum()`, `min()`, and `max()` to get useful information."
   ]
  },
  {
   "cell_type": "markdown",
   "id": "9ad07acf",
   "metadata": {
    "slideshow": {
     "slide_type": "fragment"
    }
   },
   "source": [
    "### Advanced features\n",
    "- List comprehensions with multiple `for`s\n",
    "- Nested list comprehensions\n",
    "- Dictionary comprehensions"
   ]
  },
  {
   "cell_type": "markdown",
   "id": "6cc8cb07",
   "metadata": {
    "slideshow": {
     "slide_type": "slide"
    }
   },
   "source": [
    "# List comprehensions with multiple `for`\n",
    "\n",
    "### Bonus example: deck of cards\n",
    "\n",
    "<center>\n",
    "    <img src=\"https://www.thoughtco.com/thmb/EN9nTxujaEC78Vx-vq2mniHbCiQ=/768x0/filters:no_upscale():max_bytes(150000):strip_icc():format(webp)/close-up-of-cards-on-white-background-767988479-5c4bd7bb4cedfd0001ddb36e.jpg\" width=\"33%\" />\n",
    "    <!-- source https://www.thoughtco.com/standard-deck-of-cards-3126599 -->\n",
    "</center>\n",
    "\n",
    "A regular 52-card deck consists of four suits each with 13 cards.\n",
    "\n",
    "We can represent the deck as 'N_S' where N is the number and S is the suit e.g. \"Q_H\" is the queen of hearts, \"7_D\" is the 7 of diamonds.\n",
    "\n",
    "Using list comprehensions:\n",
    "\n"
   ]
  },
  {
   "cell_type": "code",
   "execution_count": 15,
   "id": "f36cb378",
   "metadata": {
    "slideshow": {
     "slide_type": "fragment"
    }
   },
   "outputs": [],
   "source": [
    "numbers = ['2','3','4','5','6','7','8','9','T','J','Q','K','A']\n",
    "suits = ['H','D','C','S']\n",
    "deck = [n + '_' + s for s in suits for n in numbers]"
   ]
  },
  {
   "cell_type": "code",
   "execution_count": 16,
   "id": "28e4e647",
   "metadata": {
    "slideshow": {
     "slide_type": "fragment"
    }
   },
   "outputs": [
    {
     "name": "stdout",
     "output_type": "stream",
     "text": [
      "52 cards:\n",
      "2_H\n",
      "3_H\n",
      "4_H\n",
      "5_H\n",
      "6_H\n",
      "7_H\n",
      "8_H\n",
      "9_H\n",
      "T_H\n",
      "J_H\n",
      "Q_H\n",
      "K_H\n",
      "A_H\n",
      "2_D\n",
      "3_D\n",
      "4_D\n",
      "5_D\n",
      "6_D\n",
      "7_D\n",
      "8_D\n",
      "9_D\n",
      "T_D\n",
      "J_D\n",
      "Q_D\n",
      "K_D\n",
      "A_D\n",
      "2_C\n",
      "3_C\n",
      "4_C\n",
      "5_C\n",
      "6_C\n",
      "7_C\n",
      "8_C\n",
      "9_C\n",
      "T_C\n",
      "J_C\n",
      "Q_C\n",
      "K_C\n",
      "A_C\n",
      "2_S\n",
      "3_S\n",
      "4_S\n",
      "5_S\n",
      "6_S\n",
      "7_S\n",
      "8_S\n",
      "9_S\n",
      "T_S\n",
      "J_S\n",
      "Q_S\n",
      "K_S\n",
      "A_S\n"
     ]
    }
   ],
   "source": [
    "print(str(len(deck)) + \" cards:\")\n",
    "for c in deck:\n",
    "    print(c)"
   ]
  },
  {
   "cell_type": "markdown",
   "id": "f9a735e7",
   "metadata": {
    "slideshow": {
     "slide_type": "notes"
    }
   },
   "source": [
    "Exercises:\n",
    "- Add matrix operations: get_minor, multiplyMatrixVector, multiplyMatrixMatrix, detnxn, matrixAdd, matrixPower\n",
    "- Calculus operations: left riemann sums, right riemann sums, approximate double integrals\n",
    "- Plotting: draw graph of y=f(x) (needs graphics library though), draw graph of r = f(theta)"
   ]
  }
 ],
 "metadata": {
  "celltoolbar": "Slideshow",
  "kernelspec": {
   "display_name": "Python 3 (ipykernel)",
   "language": "python",
   "name": "python3"
  },
  "language_info": {
   "codemirror_mode": {
    "name": "ipython",
    "version": 3
   },
   "file_extension": ".py",
   "mimetype": "text/x-python",
   "name": "python",
   "nbconvert_exporter": "python",
   "pygments_lexer": "ipython3",
   "version": "3.8.7"
  },
  "rise": {
   "controls": false,
   "scroll": true,
   "slide_number": true,
   "theme": "white"
  }
 },
 "nbformat": 4,
 "nbformat_minor": 5
}
